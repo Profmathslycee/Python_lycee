{
  "cells": [
    {
      "metadata": {},
      "cell_type": "markdown",
      "source": "<font size=\"+2\"><center><strong><span style=\"text-decoration: underline;\">A la découverte de la commande random()</span></strong></center></font>"
    },
    {
      "metadata": {},
      "cell_type": "markdown",
      "source": "La fonction random() n'est pas disponible par défaut sous python.<br>\nIl faut donc l'importer du module random.<br>\nLa ligne suivante importe du module random toutes les fonctions qui permettent de simuler le hasard."
    },
    {
      "metadata": {
        "trusted": true
      },
      "cell_type": "code",
      "source": "from random import *",
      "execution_count": 43,
      "outputs": []
    },
    {
      "metadata": {},
      "cell_type": "markdown",
      "source": "<strong>1. Compléter la ligne suivante afin d'afficher le résultat la commande random().</strong>"
    },
    {
      "metadata": {
        "trusted": true
      },
      "cell_type": "code",
      "source": "print(...)",
      "execution_count": 44,
      "outputs": [
        {
          "output_type": "stream",
          "text": "0.10572080583820742\n",
          "name": "stdout"
        }
      ]
    },
    {
      "metadata": {},
      "cell_type": "markdown",
      "source": "<strong>2. Compléter le programme suivant pour afficher 10 fois le résultat de la commande random().</strong>"
    },
    {
      "metadata": {
        "trusted": true
      },
      "cell_type": "code",
      "source": "for k in ...:\n    print(random())",
      "execution_count": 48,
      "outputs": [
        {
          "output_type": "stream",
          "text": "0.46660764291528467\n0.7098695900953342\n0.7885034718747318\n0.07851792944024472\n0.17822565186315376\n0.9826621048253464\n0.5073086640342052\n0.3394658332793171\n0.8105362685543375\n0.8776531359603185\n",
          "name": "stdout"
        }
      ]
    },
    {
      "metadata": {},
      "cell_type": "markdown",
      "source": "La commande random() permet d'obtenir <span style=\"text-decoration: underline;\">de façon aléatoire</span> un nombre réel compris entre ..... et .....\n\nOn considère l'expérience aléatoire: \"Tirer au hasard un nombre réel compris entre 0 et 1\".\n\n<strong>3. Quelle est la probabilité de l'évènement A:\"obtenir un nombre x<0,5?\" </strong>\n    \n..............................................................................................................................................................................\n\n\n<strong>4. Décrire l'évènement contraire de A et préciser sa probabilité. </strong>\n\n..............................................................................................................................................................................\n\n..............................................................................................................................................................................\n\n<strong><span style=\"text-decoration: underline;\">Conclusion:</span></strong> La fonction random() permet de simuler le lancer d'une ........................\n\n<strong>5. Ecrire un programme qui permet d'afficher le résultat d'un lancer. </strong>"
    },
    {
      "metadata": {
        "trusted": true
      },
      "cell_type": "code",
      "source": "if random()<... :\n    print(\"Pile\") \n... :\n    print(\"Face\") ",
      "execution_count": 31,
      "outputs": [
        {
          "output_type": "stream",
          "text": "Face\n",
          "name": "stdout"
        }
      ]
    },
    {
      "metadata": {},
      "cell_type": "markdown",
      "source": "<strong>6. Ecrire un programme qui permet d'afficher le résultat de dix lancers. </strong>"
    },
    {
      "metadata": {
        "trusted": true
      },
      "cell_type": "code",
      "source": "...............:\n    if random()<... :\n        print(\"Pile\") \n    else:\n        print(\"Face\") ",
      "execution_count": 32,
      "outputs": [
        {
          "output_type": "stream",
          "text": "Face\nFace\nFace\nPile\nFace\nFace\nPile\nFace\nPile\nPile\n",
          "name": "stdout"
        }
      ]
    },
    {
      "metadata": {},
      "cell_type": "markdown",
      "source": "Nous ne souhaitons pas afficher les résultats pile ou face mais compter le nombre de Pile.\n\n<strong>7. Compléter le programme suivant afin de compter le nombre de \"pile\" obtenu. </strong>"
    },
    {
      "metadata": {
        "trusted": true
      },
      "cell_type": "code",
      "source": "\nfor k in range(10):\n    if random()<0.5 :\n        C = ...\nprint(\"Le nombre de pile est {}.\".format(C))",
      "execution_count": 49,
      "outputs": [
        {
          "output_type": "stream",
          "text": "Le nombre de pile est 3.\n",
          "name": "stdout"
        }
      ]
    },
    {
      "metadata": {},
      "cell_type": "markdown",
      "source": "Nous ne souhaitons pas afficher le nombre de pile mais la fréquence de pile.\n\n<strong>8. Compléter le programme suivant afin d'obtenir la fréquence de \"pile\" obtenu. </strong>"
    },
    {
      "metadata": {
        "trusted": true,
        "scrolled": true
      },
      "cell_type": "code",
      "source": "... = ...\nfor k in range(10):\n    if random()<0.5 :\n        C = ...\nF = ...\nprint(\"La fréquence de Pile est {}.\".format(F))",
      "execution_count": 51,
      "outputs": [
        {
          "output_type": "stream",
          "text": "La fréquence de Pile est 0.6.\n",
          "name": "stdout"
        }
      ]
    },
    {
      "metadata": {},
      "cell_type": "markdown",
      "source": "<font size=\"+2\"><center><strong><span style=\"text-decoration: underline;\">Pour les collègues du PAF:</span></strong></center><br>\n    Vous trouverez ci-dessous deux programmes que j'ai utilisé pour la fluctuation d'échantillonnage.</font>"
    },
    {
      "metadata": {
        "trusted": true
      },
      "cell_type": "code",
      "source": "N = int(input(\"Indiquer le nombre de lancers à effectuer pour chaque échantillon:\"))\nC=0\nfor k in range(N):\n    if random()<0.5 :\n        C = C + 1\nF=C/N\nprint(\"La fréquence de Pile est {}.\".format(F))\n",
      "execution_count": null,
      "outputs": []
    },
    {
      "metadata": {
        "trusted": true
      },
      "cell_type": "code",
      "source": "N= int(input(\"Indiquer le nombre de lancers à effectuer par échantillon:\"))\nfor i in range(100):\n    C=0\n    for k in range(1,N+1):\n        if  random()<0.5 :\n            C=C+1\n    print(\"Le nombre de pile est {}.\".format(C))",
      "execution_count": 53,
      "outputs": [
        {
          "output_type": "stream",
          "name": "stdout",
          "text": "Indiquer le nombre de lancers à effectuer par échantillon:5\nLe nombre de pile est 5.\nLe nombre de pile est 2.\nLe nombre de pile est 5.\nLe nombre de pile est 1.\nLe nombre de pile est 2.\nLe nombre de pile est 4.\nLe nombre de pile est 1.\nLe nombre de pile est 3.\nLe nombre de pile est 4.\nLe nombre de pile est 2.\nLe nombre de pile est 2.\nLe nombre de pile est 3.\nLe nombre de pile est 2.\nLe nombre de pile est 2.\nLe nombre de pile est 5.\nLe nombre de pile est 3.\nLe nombre de pile est 1.\nLe nombre de pile est 2.\nLe nombre de pile est 2.\nLe nombre de pile est 2.\nLe nombre de pile est 4.\nLe nombre de pile est 3.\nLe nombre de pile est 2.\nLe nombre de pile est 3.\nLe nombre de pile est 4.\nLe nombre de pile est 3.\nLe nombre de pile est 3.\nLe nombre de pile est 3.\nLe nombre de pile est 2.\nLe nombre de pile est 2.\nLe nombre de pile est 1.\nLe nombre de pile est 2.\nLe nombre de pile est 3.\nLe nombre de pile est 2.\nLe nombre de pile est 2.\nLe nombre de pile est 3.\nLe nombre de pile est 1.\nLe nombre de pile est 2.\nLe nombre de pile est 4.\nLe nombre de pile est 0.\nLe nombre de pile est 3.\nLe nombre de pile est 1.\nLe nombre de pile est 3.\nLe nombre de pile est 2.\nLe nombre de pile est 4.\nLe nombre de pile est 4.\nLe nombre de pile est 3.\nLe nombre de pile est 1.\nLe nombre de pile est 2.\nLe nombre de pile est 1.\nLe nombre de pile est 0.\nLe nombre de pile est 2.\nLe nombre de pile est 4.\nLe nombre de pile est 2.\nLe nombre de pile est 1.\nLe nombre de pile est 1.\nLe nombre de pile est 2.\nLe nombre de pile est 3.\nLe nombre de pile est 4.\nLe nombre de pile est 3.\nLe nombre de pile est 3.\nLe nombre de pile est 2.\nLe nombre de pile est 2.\nLe nombre de pile est 4.\nLe nombre de pile est 3.\nLe nombre de pile est 2.\nLe nombre de pile est 3.\nLe nombre de pile est 3.\nLe nombre de pile est 2.\nLe nombre de pile est 1.\nLe nombre de pile est 2.\nLe nombre de pile est 2.\nLe nombre de pile est 2.\nLe nombre de pile est 4.\nLe nombre de pile est 3.\nLe nombre de pile est 3.\nLe nombre de pile est 4.\nLe nombre de pile est 1.\nLe nombre de pile est 2.\nLe nombre de pile est 4.\nLe nombre de pile est 1.\nLe nombre de pile est 4.\nLe nombre de pile est 2.\nLe nombre de pile est 1.\nLe nombre de pile est 2.\nLe nombre de pile est 2.\nLe nombre de pile est 4.\nLe nombre de pile est 2.\nLe nombre de pile est 2.\nLe nombre de pile est 2.\nLe nombre de pile est 1.\nLe nombre de pile est 2.\nLe nombre de pile est 4.\nLe nombre de pile est 2.\nLe nombre de pile est 2.\nLe nombre de pile est 2.\nLe nombre de pile est 5.\nLe nombre de pile est 2.\nLe nombre de pile est 0.\nLe nombre de pile est 3.\n"
        }
      ]
    },
    {
      "metadata": {
        "trusted": true
      },
      "cell_type": "code",
      "source": "N= int(input(\"Indiquer le nombre de lancers à effectuer par échantillon:\"))\nfor i in range(1,51):\n    C=0\n    for k in range(1,N+1):\n        X=random()\n        if (X<0.4) :\n            C=C+1\n    F=C/N\n    print(\"La fréquence de boule 1 est {}.\".format(F))",
      "execution_count": 11,
      "outputs": [
        {
          "output_type": "stream",
          "name": "stdout",
          "text": "Indiquer le nombre de lancers à effectuer par échantillon:10\nLa fréquence de boule 1 est 0.6.\nLa fréquence de boule 1 est 0.6.\nLa fréquence de boule 1 est 0.6.\nLa fréquence de boule 1 est 0.7.\nLa fréquence de boule 1 est 0.7.\nLa fréquence de boule 1 est 0.4.\nLa fréquence de boule 1 est 0.5.\nLa fréquence de boule 1 est 0.5.\nLa fréquence de boule 1 est 0.2.\nLa fréquence de boule 1 est 0.4.\nLa fréquence de boule 1 est 0.3.\nLa fréquence de boule 1 est 0.5.\nLa fréquence de boule 1 est 0.5.\nLa fréquence de boule 1 est 0.3.\nLa fréquence de boule 1 est 0.5.\nLa fréquence de boule 1 est 0.4.\nLa fréquence de boule 1 est 0.4.\nLa fréquence de boule 1 est 0.5.\nLa fréquence de boule 1 est 0.5.\nLa fréquence de boule 1 est 0.6.\nLa fréquence de boule 1 est 0.4.\nLa fréquence de boule 1 est 0.5.\nLa fréquence de boule 1 est 0.5.\nLa fréquence de boule 1 est 0.7.\nLa fréquence de boule 1 est 0.5.\nLa fréquence de boule 1 est 0.3.\nLa fréquence de boule 1 est 0.7.\nLa fréquence de boule 1 est 0.3.\nLa fréquence de boule 1 est 0.5.\nLa fréquence de boule 1 est 0.6.\nLa fréquence de boule 1 est 0.5.\nLa fréquence de boule 1 est 0.1.\nLa fréquence de boule 1 est 0.3.\nLa fréquence de boule 1 est 0.5.\nLa fréquence de boule 1 est 0.2.\nLa fréquence de boule 1 est 0.4.\nLa fréquence de boule 1 est 0.4.\nLa fréquence de boule 1 est 0.4.\nLa fréquence de boule 1 est 0.2.\nLa fréquence de boule 1 est 0.1.\nLa fréquence de boule 1 est 0.3.\nLa fréquence de boule 1 est 0.3.\nLa fréquence de boule 1 est 0.3.\nLa fréquence de boule 1 est 0.5.\nLa fréquence de boule 1 est 0.4.\nLa fréquence de boule 1 est 0.2.\nLa fréquence de boule 1 est 0.6.\nLa fréquence de boule 1 est 0.5.\nLa fréquence de boule 1 est 0.5.\nLa fréquence de boule 1 est 0.2.\n"
        }
      ]
    },
    {
      "metadata": {
        "trusted": true
      },
      "cell_type": "code",
      "source": "",
      "execution_count": null,
      "outputs": []
    }
  ],
  "metadata": {
    "kernelspec": {
      "name": "python36",
      "display_name": "Python 3.6",
      "language": "python"
    },
    "language_info": {
      "mimetype": "text/x-python",
      "nbconvert_exporter": "python",
      "name": "python",
      "pygments_lexer": "ipython3",
      "version": "3.6.6",
      "file_extension": ".py",
      "codemirror_mode": {
        "version": 3,
        "name": "ipython"
      }
    }
  },
  "nbformat": 4,
  "nbformat_minor": 2
}